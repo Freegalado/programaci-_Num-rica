{
 "cells": [
  {
   "cell_type": "markdown",
   "metadata": {},
   "source": [
    "<h1>S03 T04: Practice with numerical programming</h1>"
   ]
  },
  {
   "cell_type": "markdown",
   "metadata": {},
   "source": [
    "<h2>Nivell 1</h2>"
   ]
  },
  {
   "cell_type": "markdown",
   "metadata": {},
   "source": [
    "<h3>Exercises 1: Create a function that, given an array of one dimension, gives you a basic statistical summary of the data. If it detects that the array has more than one dimension, it should display an error message. </h3> "
   ]
  },
  {
   "cell_type": "code",
   "execution_count": null,
   "metadata": {},
   "outputs": [],
   "source": [
    "import numpy as np"
   ]
  },
  {
   "cell_type": "code",
   "execution_count": null,
   "metadata": {},
   "outputs": [],
   "source": [
    "\"\"\"The program will ask for the dimension of the array, as the exercise states, \n",
    "if the user enter an bidimensional array the program will display and error message.\n",
    "In this section I create an empty list for the data. \n",
    "\"\"\"\n",
    "data = []\n",
    "\n",
    "n_dimension = int(input(\"How many dimension will have the array ?\"))\n",
    "\n",
    "if n_dimension == 1 :\n",
    "    print(\"OK\")\n",
    "else: \n",
    "    print(\"ERROR: The array must have one dimension\")"
   ]
  },
  {
   "cell_type": "code",
   "execution_count": null,
   "metadata": {
    "scrolled": true
   },
   "outputs": [],
   "source": [
    "\"\"\"In this section of the program, the user will give the items of the list that must be \n",
    "integers. The items will be separed by space no comma needed\"\"\"\n",
    "\n",
    "\n",
    "data = ([int(n) for n in input(\"Enter the items of the list (Integers), no comma needed: \").split()])\n",
    "data_array = np.array(data)"
   ]
  },
  {
   "cell_type": "code",
   "execution_count": null,
   "metadata": {},
   "outputs": [],
   "source": [
    "print(data_array)"
   ]
  },
  {
   "cell_type": "code",
   "execution_count": null,
   "metadata": {},
   "outputs": [],
   "source": [
    "list_mean =np.mean(data_array)\n",
    "list_std = np.std(data_array)\n",
    "list_min = np.min(data_array)\n",
    "quartile_25 =np.percentile(data_array,25)\n",
    "quartile_50 =np.percentile(data_array,50)\n",
    "median = np.median(data_array)\n",
    "quartile_75 = np.percentile(data_array,75)\n",
    "num_max = np.max(data_array)\n",
    "\n",
    "count = 0\n",
    "for i in data_array:\n",
    "    count = count + 1 \n",
    "\n",
    "num_count = count    "
   ]
  },
  {
   "cell_type": "code",
   "execution_count": null,
   "metadata": {},
   "outputs": [],
   "source": [
    "def stats_summary(a,b,c,d,e,f,g,h,i):\n",
    "    print(\"Stats Summary\")\n",
    "    print(\"Number Count: {}\".format(a))\n",
    "    print(\"Mean: {}\".format(b))\n",
    "    print(\"Standard Deviation: {}\".format(c))\n",
    "    print(\"Minimum: {}\".format(d))\n",
    "    print(\"Lower Quartile: {}\".format(e))\n",
    "    print(\"Lower Quartile: {}\".format(f))\n",
    "    print(\"Median: {}\".format(g))\n",
    "    print(\"Lower Quartile: {}\".format(h))\n",
    "    print(\"Maximum: {}\".format(i))\n",
    "\n",
    "stats_summary(num_count,list_mean,list_std,list_min,quartile_25,quartile_50,median,quartile_75,num_max)"
   ]
  },
  {
   "cell_type": "markdown",
   "metadata": {},
   "source": [
    "<h3> Exercises 2: Create a function that generates an NxN square of random numbers between 0 and 100. </h3>"
   ]
  },
  {
   "cell_type": "code",
   "execution_count": null,
   "metadata": {},
   "outputs": [],
   "source": [
    "\"\"\"The program will ask the matrix dimension\"\"\"\n",
    "\n",
    "square_dimension = int(input(\"What is the dimension of the matrix? \"))"
   ]
  },
  {
   "cell_type": "code",
   "execution_count": null,
   "metadata": {},
   "outputs": [],
   "source": [
    "\"\"\"This section will create a matrix with random integers and will shape a square matrix with the\n",
    "dimension\"\"\"\n",
    "\n",
    "def square_matrix(dimension):\n",
    "    array_shape = np.random.randint(0,101, size=(dimension,dimension))\n",
    "    return array_shape\n",
    "\n"
   ]
  },
  {
   "cell_type": "code",
   "execution_count": null,
   "metadata": {},
   "outputs": [],
   "source": [
    "square_matrix(square_dimension)"
   ]
  },
  {
   "cell_type": "markdown",
   "metadata": {},
   "source": [
    "<h3> Exercises 3: Create a function that given a two-dimensional matrix, calculates the total per row and the total per column. </h3>"
   ]
  },
  {
   "cell_type": "code",
   "execution_count": null,
   "metadata": {},
   "outputs": [],
   "source": [
    "\"\"\"The program will ask for the number of items of the columns of the matrix.\"\"\"\n",
    "\n",
    "n_items = int(input(\"how many columns will have the two-dimensional matrix ?  \"))"
   ]
  },
  {
   "cell_type": "code",
   "execution_count": null,
   "metadata": {},
   "outputs": [],
   "source": [
    "\"\"\"This function will recibe the value and will create a bidimensional matrix with the number\n",
    "of items as colums\"\"\"\n",
    "\n",
    "def items_matrix(items):\n",
    "    bi_array = np.random.randint(0,101, size=(2,items))\n",
    "    #print(bi_array)\n",
    "    return bi_array\n",
    "\n",
    "bi_matrix = items_matrix(n_items)\n",
    "\n"
   ]
  },
  {
   "cell_type": "code",
   "execution_count": null,
   "metadata": {},
   "outputs": [],
   "source": [
    "print(bi_matrix)"
   ]
  },
  {
   "cell_type": "code",
   "execution_count": null,
   "metadata": {},
   "outputs": [],
   "source": [
    "def suma_col(matrix):\n",
    "    col = np.sum(matrix, axis=0)\n",
    "    return col\n",
    "    #print(\"Total in col: {} \".format(np.sum(matrix, axis=0)))\n",
    "\n",
    "def suma_row(matrix):\n",
    "    row = np.sum(matrix, axis=1)\n",
    "    return row\n",
    "    #print(\"Total in row:{} \".format(np.sum(matrix, axis=1)))\n",
    "\n",
    "def suma_col_row(col,row):\n",
    "    print(\"Total in row:{} \".format(row))\n",
    "    print(\"Total in col: {} \".format(col))"
   ]
  },
  {
   "cell_type": "code",
   "execution_count": null,
   "metadata": {},
   "outputs": [],
   "source": [
    "suma_col_row(suma_col(bi_matrix),suma_row(bi_matrix))"
   ]
  },
  {
   "cell_type": "markdown",
   "metadata": {},
   "source": [
    "<h3> Exercises 4: Manually implements a function that calculates the correlation coefficient.</h3>"
   ]
  },
  {
   "cell_type": "code",
   "execution_count": null,
   "metadata": {},
   "outputs": [],
   "source": [
    "import matplotlib.pyplot as plt\n",
    "import matplotlib.image as mpimg"
   ]
  },
  {
   "cell_type": "code",
   "execution_count": null,
   "metadata": {},
   "outputs": [],
   "source": [
    "\"\"\"In this section a random array of integers for X and Y will be create\"\"\"\n",
    "rng = np.random.default_rng(seed=90)\n",
    "X = rng.integers(low=1, high = 100, size=10000)\n",
    "Y = rng.integers(low=1, high = 100, size=10000)\n"
   ]
  },
  {
   "cell_type": "code",
   "execution_count": null,
   "metadata": {},
   "outputs": [],
   "source": [
    "\"\"\"This is the formula of Pearson Correlation Coefficient for population\"\"\"\n",
    "\n",
    "img = mpimg.imread(\"corr_cov.png\")\n",
    "plt.imshow(img)\n",
    "plt.axis(\"off\")"
   ]
  },
  {
   "cell_type": "code",
   "execution_count": null,
   "metadata": {},
   "outputs": [],
   "source": [
    "count = 0 \n",
    "for i in X:\n",
    "    count = count + 1\n",
    "\n",
    "n = count\n",
    "\n",
    "\n",
    "\"\"\"Function that will calculate the covariance\"\"\"\n",
    "def covarianza_n(x,y,n):\n",
    "    cov_xy = (np.sum((x - np.mean(x)) * (y - np.mean(y))) ) * 1/(n-1)\n",
    "    return cov_xy\n",
    "\n",
    "\"\"\"Function that will calculate the std deviation\"\"\"\n",
    "def std_n(z,n):\n",
    "    n_mean = np.sum(z)/n\n",
    "    n_var = np.sum((z-n_mean)**2)/n\n",
    "    std_n = np.sqrt(n_var)\n",
    "    return std_n"
   ]
  },
  {
   "cell_type": "code",
   "execution_count": null,
   "metadata": {},
   "outputs": [],
   "source": [
    "\"\"\"This function will calculate the coefficient \"\"\"\n",
    "\n",
    "def coef_person_population(cov,std_x,std_y):\n",
    "    p = cov/(std_x*std_y)\n",
    "    return p\n"
   ]
  },
  {
   "cell_type": "code",
   "execution_count": null,
   "metadata": {},
   "outputs": [],
   "source": [
    "print(\"Pearson's correlation coefficient: {}\".format(coef_person_population(covarianza_n(X,Y,n),std_n(X,n),std_n(Y,n))))\n",
    "print()\n",
    "\n",
    "\"\"\"The coefficient is .0268 (rounded),\n",
    "the diagonal 1 is because the division with itself is one\"\"\"\n",
    "print(\"The Numpy coefficient is:{}\".format(np.corrcoef(X,Y)))\n"
   ]
  },
  {
   "cell_type": "code",
   "execution_count": null,
   "metadata": {},
   "outputs": [],
   "source": [
    "\"\"\"In this section the grade of the relation is evaluated\"\"\"\n",
    "\n",
    "p = coef_person_population(covarianza_n(X,Y,n),std_n(X,n),std_n(Y,n))\n",
    "\n",
    "if p == 1:\n",
    "    print(\"Positive perfect correlation\")\n",
    "elif 0 < p and p < 1:\n",
    "    print(\"Positive correlation \")\n",
    "elif p == 0:\n",
    "    print(\"No dependency\")\n",
    "elif -1 < p and p < 0:\n",
    "    print(\"Negative correlation \") \n",
    "else:\n",
    "    print(\" Negative perfect correlation\")"
   ]
  }
 ],
 "metadata": {
  "kernelspec": {
   "display_name": "Python 3",
   "language": "python",
   "name": "python3"
  },
  "language_info": {
   "codemirror_mode": {
    "name": "ipython",
    "version": 3
   },
   "file_extension": ".py",
   "mimetype": "text/x-python",
   "name": "python",
   "nbconvert_exporter": "python",
   "pygments_lexer": "ipython3",
   "version": "3.8.3"
  },
  "toc": {
   "base_numbering": 1,
   "nav_menu": {},
   "number_sections": true,
   "sideBar": true,
   "skip_h1_title": true,
   "title_cell": "Table of Contents",
   "title_sidebar": "Contents",
   "toc_cell": false,
   "toc_position": {},
   "toc_section_display": true,
   "toc_window_display": true
  }
 },
 "nbformat": 4,
 "nbformat_minor": 4
}
